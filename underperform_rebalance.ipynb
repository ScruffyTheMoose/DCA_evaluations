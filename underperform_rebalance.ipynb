{
 "cells": [
  {
   "cell_type": "markdown",
   "metadata": {},
   "source": [
    "Hypothesis: Distributing investments among the underlying sectors of the SP500 annually and periodically investing new cash flow to underperforming sectors will produce greater returns than standard periodic reinvestment into the SP500.\n",
    "\n",
    "Prediction: Investment into underperforming sectors will increase short term drawdown while increasing long term returns relative to standard DCA strategy."
   ]
  },
  {
   "cell_type": "code",
   "execution_count": 1,
   "metadata": {},
   "outputs": [
    {
     "name": "stderr",
     "output_type": "stream",
     "text": [
      "/usr/lib/python3/dist-packages/requests/__init__.py:89: RequestsDependencyWarning: urllib3 (1.26.7) or chardet (3.0.4) doesn't match a supported version!\n",
      "  warnings.warn(\"urllib3 ({}) or chardet ({}) doesn't match a supported \"\n"
     ]
    }
   ],
   "source": [
    "import yahoo_fin.stock_info as si # pulling price data\n",
    "from portfolio import Portfolio # portfolio management module\n",
    "import datetime\n",
    "import pandas as pd"
   ]
  },
  {
   "cell_type": "markdown",
   "metadata": {},
   "source": [
    "In order to track each underlying sector of the SP500, we'll be using the Select Sector indexes from SPDR.\n",
    "\n",
    "SP500 sectors and their representative ETFs:\n",
    "Technology - XLK\n",
    "Health Care - XLV\n",
    "Financial Services - XLF\n",
    "Consumer Discretionary - XLY\n",
    "Communication Services - XLC (founded June 18, 2018)\n",
    "Industrial - XLI\n",
    "Consumer Staples - XLP\n",
    "Energy - XLE\n",
    "Utilities - XLU\n",
    "Real Estate - XLRE (founded October 7, 2015)\n",
    "Materials - XLB\n",
    "\n",
    "First, we'll collect their 20 years historical price data and store them as csv files for easy read/write access."
   ]
  },
  {
   "cell_type": "code",
   "execution_count": 3,
   "metadata": {},
   "outputs": [],
   "source": [
    "sectors = ['XLK', 'XLV', 'XLF', 'XLY', 'XLC', 'XLI', 'XLP', 'XLE', 'XLU', 'XLRE', 'XLB']\n",
    "\n",
    "start_date = datetime.datetime(2001, 1, 1)\n",
    "end_date = datetime.datetime(2021, 1, 1)\n",
    "\n",
    "for fund in sectors:\n",
    "    data = si.get_data(ticker=fund, start_date=start_date, end_date=end_date)\n",
    "    data.to_csv(path_or_buf=f'sector_historical/{fund}.csv')"
   ]
  },
  {
   "cell_type": "markdown",
   "metadata": {},
   "source": [
    "Here we will construct a portfolio that will allow us to track and measure the performance of each sector index.\n",
    "\n",
    "Portfolio structure:\n",
    "portfolio = {\n",
    "    fund: {\n",
    "        share: int\n",
    "        price: float\n",
    "    }...\n",
    "}"
   ]
  },
  {
   "cell_type": "code",
   "execution_count": null,
   "metadata": {},
   "outputs": [],
   "source": [
    "portfolio = {}\n",
    "\n",
    "for fund in sectors:\n",
    "    portfolio[fund] = {\n",
    "        'shares': 0,\n",
    "        'cost': 0\n",
    "    }"
   ]
  }
 ],
 "metadata": {
  "interpreter": {
   "hash": "916dbcbb3f70747c44a77c7bcd40155683ae19c65e1c03b4aa3499c5328201f1"
  },
  "kernelspec": {
   "display_name": "Python 3.8.10 64-bit",
   "language": "python",
   "name": "python3"
  },
  "language_info": {
   "codemirror_mode": {
    "name": "ipython",
    "version": 3
   },
   "file_extension": ".py",
   "mimetype": "text/x-python",
   "name": "python",
   "nbconvert_exporter": "python",
   "pygments_lexer": "ipython3",
   "version": "3.8.10"
  },
  "orig_nbformat": 4
 },
 "nbformat": 4,
 "nbformat_minor": 2
}
